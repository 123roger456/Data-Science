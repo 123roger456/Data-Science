{
 "cells": [
  {
   "cell_type": "code",
   "execution_count": 1,
   "id": "2deac15b",
   "metadata": {},
   "outputs": [],
   "source": [
    "import numpy as np"
   ]
  },
  {
   "cell_type": "code",
   "execution_count": 5,
   "id": "4f71d47e",
   "metadata": {
    "scrolled": true
   },
   "outputs": [
    {
     "name": "stdout",
     "output_type": "stream",
     "text": [
      "[[1 2 3]\n",
      " [5 6 7]]\n",
      "\n",
      "[[1 2 3]\n",
      " [4 5 6]\n",
      " [7 8 9]]\n"
     ]
    }
   ],
   "source": [
    "a = np.array([[1,2,3],[5,6,7]])\n",
    "print(a)\n",
    "print()\n",
    "b = np.array([[1,2,3],[4,5,6],[7,8,9]], dtype = \"int64\")\n",
    "print(b)"
   ]
  },
  {
   "cell_type": "code",
   "execution_count": 3,
   "id": "f540d28f",
   "metadata": {},
   "outputs": [
    {
     "data": {
      "text/plain": [
       "2"
      ]
     },
     "execution_count": 3,
     "metadata": {},
     "output_type": "execute_result"
    }
   ],
   "source": [
    "# Getting dimension we use\n",
    "\n",
    "a.ndim\n",
    "# b.ndim"
   ]
  },
  {
   "cell_type": "code",
   "execution_count": 4,
   "id": "b68a9acc",
   "metadata": {},
   "outputs": [
    {
     "data": {
      "text/plain": [
       "(3, 3)"
      ]
     },
     "execution_count": 4,
     "metadata": {},
     "output_type": "execute_result"
    }
   ],
   "source": [
    "# getting shape (m,n)\n",
    "\n",
    "# a.shape\n",
    "b.shape"
   ]
  },
  {
   "cell_type": "code",
   "execution_count": 5,
   "id": "f837b9ce",
   "metadata": {},
   "outputs": [
    {
     "data": {
      "text/plain": [
       "dtype('int64')"
      ]
     },
     "execution_count": 5,
     "metadata": {},
     "output_type": "execute_result"
    }
   ],
   "source": [
    "# getting datatype : int32, int16, int8\n",
    "b.dtype"
   ]
  },
  {
   "cell_type": "code",
   "execution_count": 6,
   "id": "c8d7f5bd",
   "metadata": {},
   "outputs": [
    {
     "data": {
      "text/plain": [
       "8"
      ]
     },
     "execution_count": 6,
     "metadata": {},
     "output_type": "execute_result"
    }
   ],
   "source": [
    "# getting the number of byes we use the \n",
    "\n",
    "b.itemsize"
   ]
  },
  {
   "cell_type": "markdown",
   "id": "b17e8e82",
   "metadata": {},
   "source": [
    "# Array operations"
   ]
  },
  {
   "cell_type": "code",
   "execution_count": 7,
   "id": "12092e53",
   "metadata": {},
   "outputs": [
    {
     "name": "stdout",
     "output_type": "stream",
     "text": [
      "1\n",
      "[1 2 3]\n",
      "[3 7]\n",
      "[[1 3]\n",
      " [5 7]]\n"
     ]
    }
   ],
   "source": [
    "# Accessing the array items a[r,c]\n",
    "\n",
    "print(a[0,0]) # element at o,o\n",
    "print(a[0,:]) # Elements  at row 0\n",
    "print(a[:,2]) # Elements at col 2\n",
    "print(a[:,0::2])"
   ]
  },
  {
   "cell_type": "code",
   "execution_count": 8,
   "id": "47ba5307",
   "metadata": {},
   "outputs": [
    {
     "name": "stdout",
     "output_type": "stream",
     "text": [
      "[[10  2  3]\n",
      " [ 5  6  7]]\n",
      "[[1 2 3]\n",
      " [5 6 7]]\n"
     ]
    }
   ],
   "source": [
    "# updattion\n",
    "\n",
    "a[0,0] = 10\n",
    "print(a)\n",
    "\n",
    "a[0,:] = [1,2,3]\n",
    "print(a)"
   ]
  },
  {
   "cell_type": "code",
   "execution_count": 5,
   "id": "b399468b",
   "metadata": {},
   "outputs": [
    {
     "name": "stdout",
     "output_type": "stream",
     "text": [
      "[[[1 2]\n",
      "  [3 4]]\n",
      "\n",
      " [[8 7]\n",
      "  [6 5]]]\n"
     ]
    }
   ],
   "source": [
    "# 3D\n",
    "\n",
    "arr = np.array(\n",
    "    [\n",
    "        [\n",
    "            [1, 2], [3, 4]\n",
    "        ], \n",
    "        [\n",
    "            [8, 7], [6, 5]\n",
    "        ]\n",
    "    ]\n",
    ")\n",
    "print(arr)"
   ]
  },
  {
   "cell_type": "code",
   "execution_count": 10,
   "id": "a3dd1736",
   "metadata": {},
   "outputs": [
    {
     "name": "stdout",
     "output_type": "stream",
     "text": [
      "1\n",
      "4\n",
      "7\n",
      "[[1 2]\n",
      " [3 4]]\n",
      "[3 4]\n",
      "[4 5]\n"
     ]
    }
   ],
   "source": [
    "print(arr[0,0,0])\n",
    "print(arr[0,1,1])\n",
    "print(arr[1,0,1])\n",
    "print(arr[0,:,:])\n",
    "print(arr[0,1,:])\n",
    "print(arr[:,1,1])"
   ]
  },
  {
   "cell_type": "code",
   "execution_count": 11,
   "id": "a425fbd9",
   "metadata": {},
   "outputs": [
    {
     "name": "stdout",
     "output_type": "stream",
     "text": [
      "[[[0 0]\n",
      "  [3 4]]\n",
      "\n",
      " [[0 0]\n",
      "  [6 5]]]\n"
     ]
    }
   ],
   "source": [
    "arr[:,0,:] = [[0,0],[0,0]]\n",
    "print(arr)"
   ]
  },
  {
   "cell_type": "markdown",
   "id": "0eeb0f94",
   "metadata": {},
   "source": [
    "# initailising"
   ]
  },
  {
   "cell_type": "code",
   "execution_count": 12,
   "id": "fc3f2631",
   "metadata": {},
   "outputs": [
    {
     "name": "stdout",
     "output_type": "stream",
     "text": [
      "[[0. 0.]\n",
      " [0. 0.]]\n"
     ]
    }
   ],
   "source": [
    "TwoByTwo = np.zeros((2,2))\n",
    "print(TwoByTwo)"
   ]
  },
  {
   "cell_type": "code",
   "execution_count": 13,
   "id": "6c68f893",
   "metadata": {},
   "outputs": [
    {
     "name": "stdout",
     "output_type": "stream",
     "text": [
      "[[1 1 1]\n",
      " [1 1 1]\n",
      " [1 1 1]]\n"
     ]
    }
   ],
   "source": [
    "TByT = np.ones((3,3), dtype = \"int16\")\n",
    "print(TByT)"
   ]
  },
  {
   "cell_type": "code",
   "execution_count": 6,
   "id": "a0b56188",
   "metadata": {},
   "outputs": [
    {
     "name": "stdout",
     "output_type": "stream",
     "text": [
      "[[[45 45]\n",
      "  [45 45]\n",
      "  [45 45]\n",
      "  [45 45]]\n",
      "\n",
      " [[45 45]\n",
      "  [45 45]\n",
      "  [45 45]\n",
      "  [45 45]]\n",
      "\n",
      " [[45 45]\n",
      "  [45 45]\n",
      "  [45 45]\n",
      "  [45 45]]\n",
      "\n",
      " [[45 45]\n",
      "  [45 45]\n",
      "  [45 45]\n",
      "  [45 45]]]\n"
     ]
    }
   ],
   "source": [
    "FByF = np.full([4,4,2], 45)\n",
    "print(FByF)"
   ]
  },
  {
   "cell_type": "code",
   "execution_count": 26,
   "id": "3abf926d",
   "metadata": {},
   "outputs": [
    {
     "data": {
      "text/plain": [
       "array([[4, 4, 4],\n",
       "       [4, 4, 4]])"
      ]
     },
     "execution_count": 26,
     "metadata": {},
     "output_type": "execute_result"
    }
   ],
   "source": [
    "np.full_like(a,4) \n",
    "# np.full(a.shape, 4) jst same as above"
   ]
  },
  {
   "cell_type": "code",
   "execution_count": 8,
   "id": "3c874e81",
   "metadata": {},
   "outputs": [
    {
     "data": {
      "text/plain": [
       "array([[0.49140411, 0.87829782],\n",
       "       [0.82194688, 0.19336988]])"
      ]
     },
     "execution_count": 8,
     "metadata": {},
     "output_type": "execute_result"
    }
   ],
   "source": [
    "# Random decimal number in the array\n",
    "\n",
    "np.random.rand(2,2)\n",
    "# np.random.random_sample(a.shape)"
   ]
  },
  {
   "cell_type": "code",
   "execution_count": 10,
   "id": "a464dceb",
   "metadata": {},
   "outputs": [
    {
     "data": {
      "text/plain": [
       "array([[9, 7, 9],\n",
       "       [4, 7, 6],\n",
       "       [3, 3, 3]])"
      ]
     },
     "execution_count": 10,
     "metadata": {},
     "output_type": "execute_result"
    }
   ],
   "source": [
    "# Random integer number in an array\n",
    "#                   start number, end number(Exculsive), dimension  \n",
    "np.random.randint(3,10,size=(3,3))"
   ]
  },
  {
   "cell_type": "markdown",
   "id": "ec63e271",
   "metadata": {},
   "source": [
    "# Identity Matrix"
   ]
  },
  {
   "cell_type": "code",
   "execution_count": 24,
   "id": "0076c2d2",
   "metadata": {},
   "outputs": [
    {
     "data": {
      "text/plain": [
       "array([[1., 0., 0.],\n",
       "       [0., 1., 0.],\n",
       "       [0., 0., 1.]])"
      ]
     },
     "execution_count": 24,
     "metadata": {},
     "output_type": "execute_result"
    }
   ],
   "source": [
    "np.identity(3) # specify the dimension"
   ]
  },
  {
   "cell_type": "markdown",
   "id": "7971c494",
   "metadata": {},
   "source": [
    "# pattern"
   ]
  },
  {
   "cell_type": "code",
   "execution_count": 9,
   "id": "4bbc54ae",
   "metadata": {},
   "outputs": [
    {
     "name": "stdout",
     "output_type": "stream",
     "text": [
      "[[1. 1. 1. 1. 1.]\n",
      " [1. 0. 0. 0. 1.]\n",
      " [1. 0. 9. 0. 1.]\n",
      " [1. 0. 0. 0. 1.]\n",
      " [1. 1. 1. 1. 1.]]\n"
     ]
    }
   ],
   "source": [
    "res = np.ones((5,5))\n",
    "\n",
    "inner = np.zeros((3,3))\n",
    "inner[1,1] = 9\n",
    "\n",
    "res[1:-1, 1:-1] = inner\n",
    "print(res)"
   ]
  },
  {
   "cell_type": "markdown",
   "id": "843c2a2c",
   "metadata": {},
   "source": [
    "# Copying array"
   ]
  },
  {
   "cell_type": "code",
   "execution_count": 29,
   "id": "61b7cd77",
   "metadata": {},
   "outputs": [
    {
     "data": {
      "text/plain": [
       "array([1, 2, 3])"
      ]
     },
     "execution_count": 29,
     "metadata": {},
     "output_type": "execute_result"
    }
   ],
   "source": [
    "arr = np.array([1,2,3])\n",
    "arr2 = arr\n",
    "# arr2 and arr are pointed to the same memory location\n",
    "# changes in any of them effects them both.\n",
    "arr2"
   ]
  },
  {
   "cell_type": "code",
   "execution_count": 14,
   "id": "0c5f1170",
   "metadata": {},
   "outputs": [
    {
     "data": {
      "text/plain": [
       "(array([34,  2,  3]), array([1, 2, 3]))"
      ]
     },
     "execution_count": 14,
     "metadata": {},
     "output_type": "execute_result"
    }
   ],
   "source": [
    "arr3 = arr.copy()\n",
    "arr3[0] = 34\n",
    "arr3, arr"
   ]
  },
  {
   "cell_type": "markdown",
   "id": "e78eec3f",
   "metadata": {},
   "source": [
    "# Mathematics"
   ]
  },
  {
   "cell_type": "code",
   "execution_count": 30,
   "id": "5368e24e",
   "metadata": {},
   "outputs": [
    {
     "data": {
      "text/plain": [
       "array([3, 4, 5])"
      ]
     },
     "execution_count": 30,
     "metadata": {},
     "output_type": "execute_result"
    }
   ],
   "source": [
    "arr + 2"
   ]
  },
  {
   "cell_type": "code",
   "execution_count": 31,
   "id": "992e6328",
   "metadata": {},
   "outputs": [
    {
     "data": {
      "text/plain": [
       "array([-1,  0,  1])"
      ]
     },
     "execution_count": 31,
     "metadata": {},
     "output_type": "execute_result"
    }
   ],
   "source": [
    "arr - 2"
   ]
  },
  {
   "cell_type": "code",
   "execution_count": 33,
   "id": "51c52936",
   "metadata": {},
   "outputs": [
    {
     "data": {
      "text/plain": [
       "array([3, 4, 5])"
      ]
     },
     "execution_count": 33,
     "metadata": {},
     "output_type": "execute_result"
    }
   ],
   "source": [
    "arr += 2\n",
    "arr"
   ]
  },
  {
   "cell_type": "code",
   "execution_count": 34,
   "id": "dbc200ae",
   "metadata": {},
   "outputs": [
    {
     "data": {
      "text/plain": [
       "array([ 6,  8, 10])"
      ]
     },
     "execution_count": 34,
     "metadata": {},
     "output_type": "execute_result"
    }
   ],
   "source": [
    "arr * 2"
   ]
  },
  {
   "cell_type": "code",
   "execution_count": 35,
   "id": "d4fb8ca4",
   "metadata": {},
   "outputs": [
    {
     "data": {
      "text/plain": [
       "array([1.5, 2. , 2.5])"
      ]
     },
     "execution_count": 35,
     "metadata": {},
     "output_type": "execute_result"
    }
   ],
   "source": [
    "arr / 2"
   ]
  },
  {
   "cell_type": "code",
   "execution_count": 36,
   "id": "12d75135",
   "metadata": {},
   "outputs": [
    {
     "data": {
      "text/plain": [
       "array([37,  6,  8])"
      ]
     },
     "execution_count": 36,
     "metadata": {},
     "output_type": "execute_result"
    }
   ],
   "source": [
    "arr + arr3"
   ]
  },
  {
   "cell_type": "code",
   "execution_count": 38,
   "id": "cdf8557e",
   "metadata": {},
   "outputs": [
    {
     "data": {
      "text/plain": [
       "array([ 9, 16, 25], dtype=int32)"
      ]
     },
     "execution_count": 38,
     "metadata": {},
     "output_type": "execute_result"
    }
   ],
   "source": [
    "arr ** 2"
   ]
  },
  {
   "cell_type": "code",
   "execution_count": 39,
   "id": "a709c21d",
   "metadata": {},
   "outputs": [
    {
     "data": {
      "text/plain": [
       "array([-0.9899925 , -0.65364362,  0.28366219])"
      ]
     },
     "execution_count": 39,
     "metadata": {},
     "output_type": "execute_result"
    }
   ],
   "source": [
    "np.cos(arr)\n",
    "\n",
    "# np.sin(arr)\n",
    "\n",
    "# https://numpy.org/doc/stable/reference/routines.math.html"
   ]
  },
  {
   "cell_type": "markdown",
   "id": "286e84be",
   "metadata": {},
   "source": [
    "# Linear Algebra (Matrix)"
   ]
  },
  {
   "cell_type": "code",
   "execution_count": 40,
   "id": "2c422fe4",
   "metadata": {},
   "outputs": [],
   "source": [
    "# https://numpy.org/doc/stable/reference/routines.linalg.html"
   ]
  },
  {
   "cell_type": "code",
   "execution_count": 8,
   "id": "5b9a895d",
   "metadata": {},
   "outputs": [
    {
     "name": "stdout",
     "output_type": "stream",
     "text": [
      "[[12 12 12]\n",
      " [12 12 12]\n",
      " [12 12 12]]\n"
     ]
    }
   ],
   "source": [
    "matA = np.full((3,2), 3)\n",
    "\n",
    "matB = np.full((2,3), 2)\n",
    "\n",
    "res = np.matmul(matA, matB)\n",
    "\n",
    "print(res)"
   ]
  },
  {
   "cell_type": "code",
   "execution_count": 3,
   "id": "da4da934",
   "metadata": {},
   "outputs": [
    {
     "data": {
      "text/plain": [
       "1.0"
      ]
     },
     "execution_count": 3,
     "metadata": {},
     "output_type": "execute_result"
    }
   ],
   "source": [
    "# Determinant\n",
    "\n",
    "idmat = np.identity(3)\n",
    "np.linalg.det(idmat)"
   ]
  },
  {
   "cell_type": "markdown",
   "id": "11b07887",
   "metadata": {},
   "source": [
    "# Statistics"
   ]
  },
  {
   "cell_type": "code",
   "execution_count": 6,
   "id": "4eb3259d",
   "metadata": {},
   "outputs": [
    {
     "data": {
      "text/plain": [
       "array([3, 7])"
      ]
     },
     "execution_count": 6,
     "metadata": {},
     "output_type": "execute_result"
    }
   ],
   "source": [
    "# np.max(matA, axis = 0)\n",
    "# a = [[1 2 3]\n",
    "#  [5 6 7]]\n",
    "np.max(a, axis = 1)"
   ]
  },
  {
   "cell_type": "code",
   "execution_count": 9,
   "id": "23193242",
   "metadata": {},
   "outputs": [
    {
     "data": {
      "text/plain": [
       "3"
      ]
     },
     "execution_count": 9,
     "metadata": {},
     "output_type": "execute_result"
    }
   ],
   "source": [
    "np.min(matA)"
   ]
  },
  {
   "cell_type": "code",
   "execution_count": 13,
   "id": "3078067b",
   "metadata": {},
   "outputs": [
    {
     "data": {
      "text/plain": [
       "array([ 6, 18])"
      ]
     },
     "execution_count": 13,
     "metadata": {},
     "output_type": "execute_result"
    }
   ],
   "source": [
    "np.sum(a, axis = 1)"
   ]
  },
  {
   "cell_type": "markdown",
   "id": "4cba5bc7",
   "metadata": {},
   "source": [
    "# Re-organising"
   ]
  },
  {
   "cell_type": "code",
   "execution_count": 53,
   "id": "54bbceb3",
   "metadata": {},
   "outputs": [
    {
     "data": {
      "text/plain": [
       "array([[[1, 2],\n",
       "        [3, 4]],\n",
       "\n",
       "       [[5, 6],\n",
       "        [7, 8]]])"
      ]
     },
     "execution_count": 53,
     "metadata": {},
     "output_type": "execute_result"
    }
   ],
   "source": [
    "before = np.array([[1,2,3,4],[5,6,7,8]])\n",
    "\n",
    "after = before.reshape(2,2,2)\n",
    "after"
   ]
  },
  {
   "cell_type": "code",
   "execution_count": 55,
   "id": "b9780f42",
   "metadata": {},
   "outputs": [
    {
     "data": {
      "text/plain": [
       "array([[1, 2, 3, 4],\n",
       "       [5, 6, 7, 8],\n",
       "       [1, 2, 3, 4],\n",
       "       [5, 6, 7, 8]])"
      ]
     },
     "execution_count": 55,
     "metadata": {},
     "output_type": "execute_result"
    }
   ],
   "source": [
    "# Verticlal Stacking\n",
    "\n",
    "vstacking = np.vstack([before,before])\n",
    "vstacking"
   ]
  },
  {
   "cell_type": "code",
   "execution_count": 58,
   "id": "081a090e",
   "metadata": {},
   "outputs": [
    {
     "name": "stdout",
     "output_type": "stream",
     "text": [
      "1\n",
      "2\n",
      "3\n",
      "4\n",
      "5\n",
      "6\n",
      "7\n",
      "8\n",
      "1\n",
      "2\n",
      "3\n",
      "4\n",
      "5\n",
      "6\n",
      "7\n",
      "8\n"
     ]
    }
   ],
   "source": [
    "for i in vstacking:\n",
    "    for j in i:\n",
    "        print(j)"
   ]
  },
  {
   "cell_type": "code",
   "execution_count": 59,
   "id": "577c5af0",
   "metadata": {},
   "outputs": [
    {
     "data": {
      "text/plain": [
       "array([[1, 2, 3, 4, 1, 2, 3, 4],\n",
       "       [5, 6, 7, 8, 5, 6, 7, 8]])"
      ]
     },
     "execution_count": 59,
     "metadata": {},
     "output_type": "execute_result"
    }
   ],
   "source": [
    "hstacking = np.hstack([before,before])\n",
    "hstacking"
   ]
  },
  {
   "cell_type": "markdown",
   "id": "881b2675",
   "metadata": {},
   "source": [
    "# loading data"
   ]
  },
  {
   "cell_type": "code",
   "execution_count": 11,
   "id": "8e8e3d0c",
   "metadata": {},
   "outputs": [
    {
     "data": {
      "text/plain": [
       "array([122,  34,   5,  77,  88], dtype=int16)"
      ]
     },
     "execution_count": 11,
     "metadata": {},
     "output_type": "execute_result"
    }
   ],
   "source": [
    "aaaa = np.genfromtxt(\"numbers.txt\", delimiter = \",\" ,dtype = \"int16\")\n",
    "aaaa\n",
    "# aaaa.astype(\"int16\")"
   ]
  },
  {
   "cell_type": "markdown",
   "id": "cbd6859a",
   "metadata": {},
   "source": [
    "# Boolean masking and advanced indexing"
   ]
  },
  {
   "cell_type": "code",
   "execution_count": 68,
   "id": "9af28afc",
   "metadata": {},
   "outputs": [
    {
     "data": {
      "text/plain": [
       "array([ True, False, False, False,  True])"
      ]
     },
     "execution_count": 68,
     "metadata": {},
     "output_type": "execute_result"
    }
   ],
   "source": [
    "aaaa > 77"
   ]
  },
  {
   "cell_type": "code",
   "execution_count": 69,
   "id": "67b8e946",
   "metadata": {},
   "outputs": [
    {
     "data": {
      "text/plain": [
       "array([122,  88], dtype=int16)"
      ]
     },
     "execution_count": 69,
     "metadata": {},
     "output_type": "execute_result"
    }
   ],
   "source": [
    "aaaa[aaaa > 77]"
   ]
  },
  {
   "cell_type": "code",
   "execution_count": 14,
   "id": "495a2ae3",
   "metadata": {},
   "outputs": [
    {
     "data": {
      "text/plain": [
       "array([6, 1])"
      ]
     },
     "execution_count": 14,
     "metadata": {},
     "output_type": "execute_result"
    }
   ],
   "source": [
    "# aaaa[[1,2]]\n",
    "\n",
    "a[[1,0],[1,0]]\n",
    "\n",
    "# a[[0,2,3],1:]"
   ]
  },
  {
   "cell_type": "code",
   "execution_count": 25,
   "id": "9bf19330",
   "metadata": {},
   "outputs": [
    {
     "data": {
      "text/plain": [
       "array([False,  True,  True])"
      ]
     },
     "execution_count": 25,
     "metadata": {},
     "output_type": "execute_result"
    }
   ],
   "source": [
    "np.any(a > 5 , axis = 0)\n",
    "# Checks whether any column value is greater than 5, then returns true\n",
    "# a = [[1 2 3]\n",
    "#  [5 6 7]]"
   ]
  },
  {
   "cell_type": "code",
   "execution_count": 77,
   "id": "5fa251b1",
   "metadata": {},
   "outputs": [
    {
     "data": {
      "text/plain": [
       "array([False, False, False])"
      ]
     },
     "execution_count": 77,
     "metadata": {},
     "output_type": "execute_result"
    }
   ],
   "source": [
    "np.all(a > 5 , axis = 0)\n",
    "# checks if all the values in the column have value greater than 5\n",
    "# a = [[1 2 3]\n",
    "#  [5 6 7]]"
   ]
  },
  {
   "cell_type": "code",
   "execution_count": 80,
   "id": "6015297b",
   "metadata": {},
   "outputs": [
    {
     "data": {
      "text/plain": [
       "array([[False, False, False],\n",
       "       [False,  True,  True]])"
      ]
     },
     "execution_count": 80,
     "metadata": {},
     "output_type": "execute_result"
    }
   ],
   "source": [
    "((a > 5) & (a < 10))\n",
    "\n",
    "# true for all values between 5 and 10"
   ]
  },
  {
   "cell_type": "code",
   "execution_count": 81,
   "id": "0bc61989",
   "metadata": {},
   "outputs": [
    {
     "data": {
      "text/plain": [
       "array([[ True,  True,  True],\n",
       "       [ True, False, False]])"
      ]
     },
     "execution_count": 81,
     "metadata": {},
     "output_type": "execute_result"
    }
   ],
   "source": [
    "(~(a > 5) & (a < 10))"
   ]
  },
  {
   "cell_type": "markdown",
   "id": "b92360b8",
   "metadata": {},
   "source": [
    "# Checking a specific row is in the numpy array"
   ]
  },
  {
   "cell_type": "code",
   "execution_count": 20,
   "id": "492eb176",
   "metadata": {},
   "outputs": [],
   "source": [
    "arr = np.array([[1, 2, 3, 4, 5],\n",
    "                   [6, 7, 8, 9, 10],\n",
    "                   [11, 12, 13, 14, 15],\n",
    "                   [16, 17, 18, 19, 20]\n",
    "                   ])\n"
   ]
  },
  {
   "cell_type": "code",
   "execution_count": 21,
   "id": "43922a52",
   "metadata": {},
   "outputs": [
    {
     "name": "stdout",
     "output_type": "stream",
     "text": [
      "True\n"
     ]
    }
   ],
   "source": [
    "print([1, 2, 3, 4, 5] in arr.tolist())"
   ]
  },
  {
   "cell_type": "code",
   "execution_count": 22,
   "id": "ee68910a",
   "metadata": {},
   "outputs": [
    {
     "name": "stdout",
     "output_type": "stream",
     "text": [
      "False\n"
     ]
    }
   ],
   "source": [
    "print([16, 17, 20, 19, 18] in arr.tolist())"
   ]
  },
  {
   "cell_type": "markdown",
   "id": "1db0dab3",
   "metadata": {},
   "source": [
    "# How to Remove rows in Numpy array that contains non-numeric values?"
   ]
  },
  {
   "cell_type": "code",
   "execution_count": 21,
   "id": "8ffbf6b9",
   "metadata": {},
   "outputs": [],
   "source": [
    "n_arr = np.array([[10.5, 22.5, 3.8],\n",
    "                  [41, np.nan, np.nan]])"
   ]
  },
  {
   "cell_type": "code",
   "execution_count": 23,
   "id": "f737f2bf",
   "metadata": {},
   "outputs": [
    {
     "name": "stdout",
     "output_type": "stream",
     "text": [
      "[[10.5 22.5  3.8]]\n"
     ]
    }
   ],
   "source": [
    "print(n_arr[~np.isnan(n_arr).any(axis=1)])"
   ]
  },
  {
   "cell_type": "code",
   "execution_count": 27,
   "id": "820aca61",
   "metadata": {},
   "outputs": [
    {
     "name": "stdout",
     "output_type": "stream",
     "text": [
      "[[10.5 22.5  3.8]\n",
      " [41.   nan  nan]]\n"
     ]
    }
   ],
   "source": [
    "print(n_arr[np.isfinite(n_arr).any(axis=1)])"
   ]
  },
  {
   "cell_type": "markdown",
   "id": "21e717a9",
   "metadata": {},
   "source": [
    "# numpy.squeeze()\n",
    "### numpy.squeeze() function is used when we want to remove single-dimensional entries from the shape of an array."
   ]
  },
  {
   "cell_type": "code",
   "execution_count": 30,
   "id": "42f17dd5",
   "metadata": {},
   "outputs": [
    {
     "name": "stdout",
     "output_type": "stream",
     "text": [
      "Input array :  [[[2 2 2]\n",
      "  [2 2 2]]]\n",
      "output squeezed array :  [[2 2 2]\n",
      " [2 2 2]]\n"
     ]
    }
   ],
   "source": [
    "in_arr = np.array([[[2, 2, 2], [2, 2, 2]]])\n",
    "# (1,2,3)\n",
    "print (\"Input array : \", in_arr) \n",
    "\n",
    "out_arr = np.squeeze(in_arr) \n",
    "# (2,3)\n",
    "print (\"output squeezed array : \", out_arr)"
   ]
  },
  {
   "cell_type": "markdown",
   "id": "2954cb58",
   "metadata": {},
   "source": [
    "#  Counting "
   ]
  },
  {
   "cell_type": "code",
   "execution_count": 16,
   "id": "52e5d541",
   "metadata": {},
   "outputs": [
    {
     "name": "stdout",
     "output_type": "stream",
     "text": [
      "4\n"
     ]
    }
   ],
   "source": [
    "arr = np.array([[2, 8, 9, 4], \n",
    "                   [9, 4, 9, 4],\n",
    "                   [4, 5, 9, 7],\n",
    "                   [2, 9, 4, 3]])\n",
    "\n",
    "# repr converts to string\n",
    "output = repr(arr).count(\"9, 4\")\n",
    "print(output)"
   ]
  },
  {
   "cell_type": "code",
   "execution_count": 4,
   "id": "a04724a7",
   "metadata": {},
   "outputs": [
    {
     "name": "stdout",
     "output_type": "stream",
     "text": [
      "1\n"
     ]
    }
   ],
   "source": [
    "x = np.array([1,2,3,4,5,1,2,1,1,1, 10])\n",
    "print(np.bincount(x).argmax())\n",
    "# bincount gets the count of the elemtn and stores in the array\n",
    "# argmax() gets the max value (Returns the indices of the maximum values along an axis.)"
   ]
  },
  {
   "cell_type": "markdown",
   "id": "b6078515",
   "metadata": {},
   "source": [
    "# Get the indices of maximum element in numpy array"
   ]
  },
  {
   "cell_type": "code",
   "execution_count": 17,
   "id": "43761dee",
   "metadata": {},
   "outputs": [],
   "source": [
    "arr = np.array([11, 12, 13, 14, 15, 16, 17, 15, 11, 12, 14, 15, 16, 17])\n",
    "\n",
    "arr2D = np.array([[11, 12, 13],\n",
    "                     [14, 15, 16],\n",
    "                     [17, 15, 11],\n",
    "                     [12, 14, 15]])"
   ]
  },
  {
   "cell_type": "code",
   "execution_count": 18,
   "id": "aac9c235",
   "metadata": {},
   "outputs": [
    {
     "data": {
      "text/plain": [
       "(array([ 6, 13], dtype=int64),)"
      ]
     },
     "execution_count": 18,
     "metadata": {},
     "output_type": "execute_result"
    }
   ],
   "source": [
    "result = np.where(arr == np.max(arr))\n",
    "result"
   ]
  },
  {
   "cell_type": "code",
   "execution_count": 21,
   "id": "428e22a5",
   "metadata": {},
   "outputs": [
    {
     "data": {
      "text/plain": [
       "array([13, 16, 17, 15])"
      ]
     },
     "execution_count": 21,
     "metadata": {},
     "output_type": "execute_result"
    }
   ],
   "source": [
    "maxInRows = np.max(arr2D, axis=1)\n",
    "maxInRows"
   ]
  },
  {
   "cell_type": "code",
   "execution_count": 46,
   "id": "6e71bdf3",
   "metadata": {},
   "outputs": [
    {
     "name": "stdout",
     "output_type": "stream",
     "text": [
      "(2, 0)\n"
     ]
    }
   ],
   "source": [
    "res = np.where(arr2D == np.max(arr2D))\n",
    "listOfCordinates = list(zip(res[0], res[1]))\n",
    "\n",
    "for cord in listOfCordinates:\n",
    "    print(cord)\n"
   ]
  },
  {
   "cell_type": "markdown",
   "id": "e3fa83ad",
   "metadata": {},
   "source": [
    "# Combining a one and a two-dimensional NumPy Array"
   ]
  },
  {
   "cell_type": "code",
   "execution_count": 56,
   "id": "dc390fc7",
   "metadata": {},
   "outputs": [
    {
     "name": "stdout",
     "output_type": "stream",
     "text": [
      "One dimensional array:\n",
      "[0 1]\n",
      "\n",
      "Two dimensional array:\n",
      "[[ 0  1]\n",
      " [ 2  3]\n",
      " [ 4  5]\n",
      " [ 6  7]\n",
      " [ 8  9]\n",
      " [10 11]]\n",
      "0:0\n",
      "1:1\n",
      "0:2\n",
      "1:3\n",
      "0:4\n",
      "1:5\n",
      "0:6\n",
      "1:7\n",
      "0:8\n",
      "1:9\n",
      "0:10\n",
      "1:11\n"
     ]
    }
   ],
   "source": [
    "num_1d = np.arange(2)\n",
    "print(\"One dimensional array:\")\n",
    "print(num_1d)\n",
    "  \n",
    "num_2d = np.arange(12).reshape(6,2)\n",
    "print(\"\\nTwo dimensional array:\")\n",
    "print(num_2d)\n",
    "  \n",
    "# Combine 1-D and 2-D arrays and display\n",
    "# their elements using numpy.nditer() \n",
    "for a, b in np.nditer([num_1d, num_2d]):\n",
    "    print(\"%d:%d\" % (a, b))"
   ]
  },
  {
   "cell_type": "markdown",
   "id": "6a131fea",
   "metadata": {},
   "source": [
    "# compare"
   ]
  },
  {
   "cell_type": "code",
   "execution_count": 57,
   "id": "f0e0fe6a",
   "metadata": {},
   "outputs": [
    {
     "name": "stdout",
     "output_type": "stream",
     "text": [
      "True\n"
     ]
    }
   ],
   "source": [
    "an_array = np.array([[1, 2], [3, 4]])\n",
    "another_array = np.array([[1, 2], [3, 4]])\n",
    "\n",
    "comparison = an_array == another_array\n",
    "equal_arrays = comparison.all()\n",
    "  \n",
    "print(equal_arrays)"
   ]
  },
  {
   "cell_type": "markdown",
   "id": "740a2cd6",
   "metadata": {},
   "source": [
    "# Numpy count_nonzero method"
   ]
  },
  {
   "cell_type": "code",
   "execution_count": 62,
   "id": "9cfceac6",
   "metadata": {},
   "outputs": [
    {
     "data": {
      "text/plain": [
       "7"
      ]
     },
     "execution_count": 62,
     "metadata": {},
     "output_type": "execute_result"
    }
   ],
   "source": [
    "arr = [[0, 1, 2, 3, 4], [5, 0, 6, 0, 7]]\n",
    "  \n",
    "gfg = np.count_nonzero(arr)\n",
    "gfg"
   ]
  },
  {
   "cell_type": "code",
   "execution_count": 63,
   "id": "d0ae20ae",
   "metadata": {},
   "outputs": [
    {
     "name": "stdout",
     "output_type": "stream",
     "text": [
      "2\n",
      "5\n"
     ]
    }
   ],
   "source": [
    "#gives no. of rows along x-axis\n",
    "print(np.size(arr, 0))\n",
    " \n",
    "#gives no. of columns along y-axis\n",
    "print(np.size(arr, 1))"
   ]
  },
  {
   "cell_type": "markdown",
   "id": "9c5cdd9a",
   "metadata": {},
   "source": [
    "# inverse a matrix "
   ]
  },
  {
   "cell_type": "code",
   "execution_count": 3,
   "id": "1e334aaf",
   "metadata": {},
   "outputs": [
    {
     "name": "stdout",
     "output_type": "stream",
     "text": [
      "[[ 0.17647059 -0.00326797 -0.02287582]\n",
      " [ 0.05882353 -0.13071895  0.08496732]\n",
      " [-0.11764706  0.1503268   0.05228758]]\n"
     ]
    }
   ],
   "source": [
    "A = np.array([[6, 1, 1],\n",
    "              [4, -2, 5],\n",
    "              [2, 8, 7]])\n",
    "  \n",
    "print(np.linalg.inv(A))"
   ]
  },
  {
   "cell_type": "markdown",
   "id": "769f9858",
   "metadata": {},
   "source": [
    "# count the frequency of unique values"
   ]
  },
  {
   "cell_type": "code",
   "execution_count": 5,
   "id": "e02902a2",
   "metadata": {},
   "outputs": [
    {
     "name": "stdout",
     "output_type": "stream",
     "text": [
      "Unique Values: [ 5  8  9 10 20]\n",
      "Frequency Values: [1 2 1 2 2]\n"
     ]
    }
   ],
   "source": [
    "ini_array = np.array([10, 20, 5,\n",
    "                      10, 8, 20,\n",
    "                      8, 9])\n",
    "  \n",
    "unique, frequency = np.unique(ini_array, \n",
    "                              return_counts = True)\n",
    "print(\"Unique Values:\", \n",
    "      unique)\n",
    "  \n",
    "print(\"Frequency Values:\",\n",
    "      frequency)"
   ]
  },
  {
   "cell_type": "markdown",
   "id": "2a30c730",
   "metadata": {},
   "source": [
    "# Filter out integers from float"
   ]
  },
  {
   "cell_type": "code",
   "execution_count": 6,
   "id": "339c940c",
   "metadata": {},
   "outputs": [
    {
     "name": "stdout",
     "output_type": "stream",
     "text": [
      "initial array :  [1.  1.2 2.2 2.  3.  2. ]\n",
      "final array [1.2 2.2]\n"
     ]
    }
   ],
   "source": [
    "ini_array = np.array([1.0, 1.2, 2.2, 2.0, 3.0, 2.0])\n",
    " \n",
    "print (\"initial array : \", str(ini_array))\n",
    " \n",
    "result = ini_array[ini_array != ini_array.astype(int)]\n",
    " \n",
    "print (\"final array\", result)"
   ]
  },
  {
   "cell_type": "markdown",
   "id": "c88f913a",
   "metadata": {},
   "source": [
    "# true division"
   ]
  },
  {
   "cell_type": "code",
   "execution_count": 7,
   "id": "3fa92cec",
   "metadata": {},
   "outputs": [
    {
     "name": "stdout",
     "output_type": "stream",
     "text": [
      "Original array: [0 1 2 3 4]\n",
      "After the element-wise division: [0.   0.25 0.5  0.75 1.  ]\n"
     ]
    }
   ],
   "source": [
    "x = np.arange(5)\n",
    "  \n",
    "print(\"Original array:\",x)\n",
    "\n",
    "rslt = np.true_divide(x, 4)\n",
    "  \n",
    "print(\"After the element-wise division:\",rslt)"
   ]
  },
  {
   "cell_type": "markdown",
   "id": "87c572b8",
   "metadata": {},
   "source": [
    "# absolute value of NumPy array"
   ]
  },
  {
   "cell_type": "code",
   "execution_count": 9,
   "id": "0a6476bb",
   "metadata": {},
   "outputs": [
    {
     "name": "stdout",
     "output_type": "stream",
     "text": [
      "Given array:\n",
      " [ 1 -2  3]\n",
      "Absolute array:\n",
      " [1 2 3]\n"
     ]
    }
   ],
   "source": [
    "array = np.array([1, -2, 3])\n",
    "  \n",
    "print(\"Given array:\\n\", array)\n",
    "  \n",
    "rslt = np.absolute(array)\n",
    "  \n",
    "print(\"Absolute array:\\n\", rslt)"
   ]
  },
  {
   "cell_type": "markdown",
   "id": "13dc2b15",
   "metadata": {},
   "source": [
    "# np.negative()"
   ]
  },
  {
   "cell_type": "code",
   "execution_count": 10,
   "id": "0b29d596",
   "metadata": {},
   "outputs": [
    {
     "name": "stdout",
     "output_type": "stream",
     "text": [
      "Input array :  [[ 2 -7  5]\n",
      " [-6  2  0]]\n",
      "negative of array elements:  [[-2  7 -5]\n",
      " [ 6 -2  0]]\n"
     ]
    }
   ],
   "source": [
    "in_arr = np.array([[2, -7, 5], [-6, 2, 0]])\n",
    "   \n",
    "print (\"Input array : \", in_arr) \n",
    "    \n",
    "out_arr = np.negative(in_arr) \n",
    "print (\"negative of array elements: \", out_arr) "
   ]
  },
  {
   "cell_type": "markdown",
   "id": "65447992",
   "metadata": {},
   "source": [
    "# np.sqrt()"
   ]
  },
  {
   "cell_type": "code",
   "execution_count": 13,
   "id": "986c68b6",
   "metadata": {},
   "outputs": [
    {
     "data": {
      "text/plain": [
       "array([1, 2, 3, 4], dtype=int16)"
      ]
     },
     "execution_count": 13,
     "metadata": {},
     "output_type": "execute_result"
    }
   ],
   "source": [
    "arr1 = np.sqrt([1, 4, 9, 16]).astype(\"int16\")\n",
    "arr1"
   ]
  },
  {
   "cell_type": "markdown",
   "id": "bf51505f",
   "metadata": {},
   "source": [
    "# Rounding to the nearest integer"
   ]
  },
  {
   "cell_type": "code",
   "execution_count": 14,
   "id": "13f02a2c",
   "metadata": {},
   "outputs": [
    {
     "data": {
      "text/plain": [
       "array([0., 0., 0., 0., 1., 1.])"
      ]
     },
     "execution_count": 14,
     "metadata": {},
     "output_type": "execute_result"
    }
   ],
   "source": [
    "y = np.array([0.2, 0.3, 0.4, 0.5, 0.6, 0.7])\n",
    "y = np.rint(y)\n",
    "y"
   ]
  },
  {
   "cell_type": "markdown",
   "id": "d16e0801",
   "metadata": {},
   "source": [
    "# Median"
   ]
  },
  {
   "cell_type": "code",
   "execution_count": 21,
   "id": "6ca76c59",
   "metadata": {},
   "outputs": [
    {
     "name": "stdout",
     "output_type": "stream",
     "text": [
      "\n",
      "Printing the Original array:\n",
      "[ 1  2 10  8  3  4  5  6  7]\n",
      "\n",
      "Median of the array that contains odd no of elements:\n",
      "5.0\n"
     ]
    }
   ],
   "source": [
    "x_odd = np.array([1, 2, 10 ,8, 3, 4, 5, 6, 7])\n",
    "print(\"\\nPrinting the Original array:\")\n",
    "print(x_odd)\n",
    "\n",
    "med_odd = np.median(x_odd)\n",
    "print(\"\\nMedian of the array that contains \\\n",
    "odd no of elements:\")\n",
    "print(med_odd)"
   ]
  },
  {
   "cell_type": "markdown",
   "id": "13daa525",
   "metadata": {},
   "source": [
    "# mean"
   ]
  },
  {
   "cell_type": "code",
   "execution_count": 22,
   "id": "a6162cda",
   "metadata": {},
   "outputs": [
    {
     "name": "stdout",
     "output_type": "stream",
     "text": [
      "[2.0, 5.0, 8.0]\n"
     ]
    }
   ],
   "source": [
    "Input = [np.array([1, 2, 3]),\n",
    "         np.array([4, 5, 6]),\n",
    "         np.array([7, 8, 9])]\n",
    "  \n",
    "# Output list initialization\n",
    "Output = []\n",
    "  \n",
    "# using np.mean()\n",
    "for i in range(len(Input)):\n",
    "   Output.append(np.mean(Input[i]))\n",
    "  \n",
    "# Printing output\n",
    "print(Output)"
   ]
  },
  {
   "cell_type": "code",
   "execution_count": 25,
   "id": "a7f2f064",
   "metadata": {},
   "outputs": [
    {
     "name": "stdout",
     "output_type": "stream",
     "text": [
      "Shape of array is (2, 3)\n",
      "Mean of array without using nanmean function: nan\n",
      "Using nanmean function: 26.4\n"
     ]
    }
   ],
   "source": [
    "# Ignoring nan values\n",
    "\n",
    "arr = np.array([[20, 15, 37], [47, 13, np.nan]])\n",
    "   \n",
    "print(\"Shape of array is\", arr.shape)\n",
    "   \n",
    "print(\"Mean of array without using nanmean function:\",\n",
    "                                           np.mean(arr))\n",
    "   \n",
    "print(\"Using nanmean function:\", np.nanmean(arr))"
   ]
  },
  {
   "cell_type": "markdown",
   "id": "834b752d",
   "metadata": {},
   "source": [
    "# Standard deviation"
   ]
  },
  {
   "cell_type": "code",
   "execution_count": 26,
   "id": "f18c76ea",
   "metadata": {},
   "outputs": [
    {
     "name": "stdout",
     "output_type": "stream",
     "text": [
      "arr :  [20, 2, 7, 1, 34]\n",
      "std of arr :  12.576167937809991\n",
      "\n",
      "More precision with float32\n",
      "std of arr :  12.576168\n",
      "\n",
      "More accuracy with float64\n",
      "std of arr :  12.576167937809991\n"
     ]
    }
   ],
   "source": [
    "arr = [20, 2, 7, 1, 34]\n",
    "  \n",
    "print(\"arr : \", arr) \n",
    "print(\"std of arr : \", np.std(arr))\n",
    "  \n",
    "print (\"\\nMore precision with float32\")\n",
    "print(\"std of arr : \", np.std(arr, dtype = np.float32))\n",
    "  \n",
    "print (\"\\nMore accuracy with float64\")\n",
    "print(\"std of arr : \", np.std(arr, dtype = np.float64))"
   ]
  },
  {
   "cell_type": "markdown",
   "id": "3445844f",
   "metadata": {},
   "source": [
    "# Polynomial"
   ]
  },
  {
   "cell_type": "code",
   "execution_count": 2,
   "id": "a1578322",
   "metadata": {},
   "outputs": [
    {
     "name": "stdout",
     "output_type": "stream",
     "text": [
      "P1 :   \n",
      "1 x + 2\n",
      "\n",
      " p2 : \n",
      "    3     2\n",
      "4 x + 9 x + 5 x + 4\n",
      "\n",
      "\n",
      "p1 at x = 2 :  4\n",
      "p2 at x = 2 :  82\n",
      "\n",
      "\n",
      "Roots of P1 :  [-2.]\n",
      "Roots of P2 :  [-1.86738371+0.j         -0.19130814+0.70633545j -0.19130814-0.70633545j]\n",
      "\n",
      "\n",
      "Coefficients of P1 :  [1 2]\n",
      "Coefficients of P2 :  [4 9 5 4]\n",
      "\n",
      "\n",
      "Order / Degree of P1 :  1\n",
      "Order / Degree of P2 :  3\n"
     ]
    }
   ],
   "source": [
    "import numpy as np\n",
    "  \n",
    "# Constructing polynomial\n",
    "p1 = np.poly1d([1, 2])\n",
    "p2 = np.poly1d([4, 9, 5, 4])\n",
    "  \n",
    "print (\"P1 : \", p1)\n",
    "print (\"\\n p2 : \\n\", p2)\n",
    "  \n",
    "# Solve for x = 2\n",
    "print (\"\\n\\np1 at x = 2 : \", p1(2))\n",
    "print (\"p2 at x = 2 : \", p2(2))\n",
    "  \n",
    "# Finding Roots\n",
    "print (\"\\n\\nRoots of P1 : \", p1.r)\n",
    "print (\"Roots of P2 : \", p2.r)\n",
    "  \n",
    "# Finding Coefficients\n",
    "print (\"\\n\\nCoefficients of P1 : \", p1.c)\n",
    "print (\"Coefficients of P2 : \", p2.coeffs)\n",
    "  \n",
    "# Finding Order\n",
    "print (\"\\n\\nOrder / Degree of P1 : \", p1.o)\n",
    "print (\"Order / Degree of P2 : \", p2.order)"
   ]
  },
  {
   "cell_type": "code",
   "execution_count": 25,
   "id": "e977c16a",
   "metadata": {},
   "outputs": [
    {
     "name": "stdout",
     "output_type": "stream",
     "text": [
      "[2.5]\n",
      "[-4.5  5. ]\n"
     ]
    }
   ],
   "source": [
    "px = (5, -2, 5)\n",
    "  \n",
    "# g(x) = x +2\n",
    "gx = (2, 1, 0)\n",
    "  \n",
    "# divide the polynomials\n",
    "qx, rx = np.polydiv(px, gx)\n",
    "  \n",
    "# print the result\n",
    "# quotiient\n",
    "print(qx)\n",
    "  \n",
    "# remainder\n",
    "print(rx)"
   ]
  },
  {
   "cell_type": "code",
   "execution_count": 26,
   "id": "7f90e7be",
   "metadata": {},
   "outputs": [
    {
     "name": "stdout",
     "output_type": "stream",
     "text": [
      "[-1.+6.68896751e-09j -1.-6.68896751e-09j]\n"
     ]
    }
   ],
   "source": [
    "coeff = [1, 2, 1]\n",
    "print(np.roots(coeff))"
   ]
  },
  {
   "cell_type": "markdown",
   "id": "727758e6",
   "metadata": {},
   "source": [
    "# String Opertstions"
   ]
  },
  {
   "cell_type": "code",
   "execution_count": 28,
   "id": "f993d42a",
   "metadata": {},
   "outputs": [
    {
     "name": "stdout",
     "output_type": "stream",
     "text": [
      "Original Array :\n",
      "['Akash' 'Rohit' 'Ayush' 'Dhruv' 'Radhika']\n",
      "\n",
      "New array :\n",
      "['AkashAkashAkash' 'RohitRohitRohit' 'AyushAyushAyush' 'DhruvDhruvDhruv'\n",
      " 'RadhikaRadhikaRadhika']\n"
     ]
    }
   ],
   "source": [
    "arr = np.array(['Akash', 'Rohit', 'Ayush', \n",
    "                'Dhruv', 'Radhika'], dtype = str)\n",
    "print(\"Original Array :\")\n",
    "print(arr)\n",
    "  \n",
    "# with the help of np.char.multiply()\n",
    "# repeating the characters 3 times\n",
    "new_array = np.char.multiply(arr, 3)\n",
    "print(\"\\nNew array :\")\n",
    "print(new_array)"
   ]
  },
  {
   "cell_type": "code",
   "execution_count": null,
   "id": "e3b05f91",
   "metadata": {},
   "outputs": [],
   "source": []
  }
 ],
 "metadata": {
  "kernelspec": {
   "display_name": "Python 3 (ipykernel)",
   "language": "python",
   "name": "python3"
  },
  "language_info": {
   "codemirror_mode": {
    "name": "ipython",
    "version": 3
   },
   "file_extension": ".py",
   "mimetype": "text/x-python",
   "name": "python",
   "nbconvert_exporter": "python",
   "pygments_lexer": "ipython3",
   "version": "3.9.7"
  }
 },
 "nbformat": 4,
 "nbformat_minor": 5
}
